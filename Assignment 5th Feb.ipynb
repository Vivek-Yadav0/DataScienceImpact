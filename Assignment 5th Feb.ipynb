{
 "cells": [
  {
   "cell_type": "code",
   "execution_count": 1,
   "id": "e319771b-286f-421f-b655-e6e9cdfdd5e6",
   "metadata": {},
   "outputs": [
    {
     "name": "stdout",
     "output_type": "stream",
     "text": [
      "Tata , Nexon-2023\n"
     ]
    }
   ],
   "source": [
    "''' Q1. Explain Class and Object with respect to Object-Oriented Programming. Give a suitable example.\n",
    "Solution:\n",
    "Class : A class is a blueprint or a model that defines the structure of an object in terms of its attributes and methods. It is a user-defined data type that provides a way to model real-world entities.\n",
    "'''\n",
    "class car:\n",
    "    def __init__(self,name,model):\n",
    "        self.name = name\n",
    "        self.model= model\n",
    "    \n",
    "        \n",
    "''' Here, car is a class,self, name and model are attributes\n",
    "\n",
    "Object: An object is an instance of a class. It is a real-world entity that has attributes and methods defined in the class.'''\n",
    "\n",
    "vehicle = car('Tata','Nexon-2023')\n",
    "print(vehicle.name,\",\",vehicle.model)\n",
    "\n",
    "#Here vehicle is a object of class car"
   ]
  },
  {
   "cell_type": "code",
   "execution_count": 8,
   "id": "9785b26f-d7bf-4f57-b33c-497279c8ccc4",
   "metadata": {},
   "outputs": [
    {
     "data": {
      "text/plain": [
       "'Q2. Name the four pillars of OOPs.\\nSolution:\\nAbstraction: Hiding the implementation details and exposing only the necessary information.\\n\\nPolymorphism: Existence of a process in many forms.\\n\\nEncapsulation: Wrapping up of data and functions into a single unit (object).\\n\\nInheritance: Reusing properties and methods of an existing object to create a new object.\\n'"
      ]
     },
     "execution_count": 8,
     "metadata": {},
     "output_type": "execute_result"
    }
   ],
   "source": [
    "'''Q2. Name the four pillars of OOPs.\n",
    "Solution:\n",
    "Abstraction: Hiding the implementation details and exposing only the necessary information.\n",
    "\n",
    "Polymorphism: Existence of a process in many forms.\n",
    "\n",
    "Encapsulation: Wrapping up of data and functions into a single unit (object).\n",
    "\n",
    "Inheritance: Reusing properties and methods of an existing object to create a new object.\n",
    "'''"
   ]
  },
  {
   "cell_type": "code",
   "execution_count": 2,
   "id": "273c926c-9f5a-42e9-affa-fb2abc624d97",
   "metadata": {},
   "outputs": [
    {
     "name": "stdout",
     "output_type": "stream",
     "text": [
      "vivek , 22 , 32983287\n"
     ]
    }
   ],
   "source": [
    "'''Q3. Explain why the __init__() function is used. Give a suitable example.\n",
    "Solution:\n",
    "\n",
    "The __init__ function is used in Python classes to initialize an object when it is created.\n",
    "The __init__ function is called automatically when an object is created from a class, and it allows the class to initialize the object's attributes or properties.\n",
    "'''\n",
    "class details:\n",
    "    def __init__(self,name,age,number):\n",
    "        self.name=name\n",
    "        self.age=age\n",
    "        self.number=number\n",
    "\n",
    "user = details('vivek',22,32983287)\n",
    "print(user.name,\",\",user.age,\",\",user.number)\n",
    "\n",
    "#in this example we didn't called __init__ funciton but it has been called automatically"
   ]
  },
  {
   "cell_type": "code",
   "execution_count": null,
   "id": "3ef459c4-d1a6-4663-955c-eb1859490128",
   "metadata": {},
   "outputs": [],
   "source": [
    "''' Q4. Why self is used in OOPs?\n",
    "Solution:\n",
    "The self keyword is used in Python classes to refer to the instance of the object being created. \n",
    "The self keyword is a reference to the instance of the class, and it is used to access attributes and methods of the object.\n",
    "'''"
   ]
  },
  {
   "cell_type": "code",
   "execution_count": 18,
   "id": "d456aa0b-d391-4edd-9231-6cb4cc5f5b6f",
   "metadata": {},
   "outputs": [
    {
     "name": "stdout",
     "output_type": "stream",
     "text": [
      "Nexon , suv , 5\n"
     ]
    }
   ],
   "source": [
    "'''Q5. What is inheritance? Give an example for each type of inheritance.\n",
    "Solution:\n",
    "Inheritance is a mechanism in which one class acquires the property of another class.\n",
    "Types of inheritance are as follows:\n",
    "'''\n",
    "\n",
    "#Single level Inheritance: a class inherits the properties and methods from only one parent class.\n",
    "\n",
    "class car:\n",
    "    def __init__(self, car_type,seating_capacity,airbags):\n",
    "        self.car_type= car_type\n",
    "        self.seating_capacity= seating_capacity\n",
    "        self.airbags = airbags\n",
    "\n",
    "class tata(car):\n",
    "    def __init__(self,name,model):\n",
    "        self.name=name\n",
    "        self.model=model\n",
    "        car.car_type='suv'\n",
    "        car.airbags=5\n",
    "\n",
    "c=tata('Nexon','XZ+')\n",
    "print(c.name,',',c.car_type,',',c.airbags)"
   ]
  },
  {
   "cell_type": "code",
   "execution_count": 24,
   "id": "7bcab8be-ca1b-4764-8b20-c83ff472cbc3",
   "metadata": {},
   "outputs": [
    {
     "data": {
      "text/plain": [
       "'This is my second class'"
      ]
     },
     "execution_count": 24,
     "metadata": {},
     "output_type": "execute_result"
    }
   ],
   "source": [
    "#Multiple inheritance: a class inherits the properties and methods from multiple parent classes.\n",
    "class a:\n",
    "    def class1(self):\n",
    "        return \"This is my first class\"\n",
    "class b:\n",
    "    def class2(self):\n",
    "        return \"This is my second class\"\n",
    "class c(a,b):\n",
    "    pass\n",
    "test= c()\n",
    "test.class1()\n",
    "test.class2()"
   ]
  },
  {
   "cell_type": "code",
   "execution_count": 31,
   "id": "f4b0fdf0-6894-44fb-a892-9ab2a26fc416",
   "metadata": {},
   "outputs": [
    {
     "name": "stdout",
     "output_type": "stream",
     "text": [
      "This is my first class , This is my second class\n"
     ]
    }
   ],
   "source": [
    "#Multilevel inheritance:a subclass inherits the properties and methods of a parent class,\n",
    "#and then a subclass of the first subclass inherits its properties and methods. \n",
    "class a:\n",
    "    def class1(self):\n",
    "        return \"This is my first class\"\n",
    "class b(a):\n",
    "    def class2(self):\n",
    "        return \"This is my second class\"\n",
    "class c(b):\n",
    "    pass\n",
    "test= c()\n",
    "print(test.class1(),\",\",test.class2())"
   ]
  },
  {
   "cell_type": "code",
   "execution_count": 34,
   "id": "79d37702-434d-46e4-8b28-0eafae2e4846",
   "metadata": {},
   "outputs": [
    {
     "name": "stdout",
     "output_type": "stream",
     "text": [
      "This is my first class , This is my third class\n",
      "This is my first class , This is my second class\n"
     ]
    }
   ],
   "source": [
    "#Hierarchical inheritance: In this type of inheritance, one class acts as the parent class for multiple child classes\n",
    "class a:\n",
    "    def class1(self):\n",
    "        return \"This is my first class\"\n",
    "class b(a):\n",
    "    def class2(self):\n",
    "        return \"This is my second class\"\n",
    "class c(a):\n",
    "    def class3(self):\n",
    "        return \"This is my third class\"\n",
    "test= c()\n",
    "print(test.class1(),\",\",test.class3())\n",
    "test2= b()\n",
    "print(test2.class1(),\",\",test2.class2())\n"
   ]
  },
  {
   "cell_type": "code",
   "execution_count": null,
   "id": "acb3f74d-4cb6-42bf-85f8-567d149f721d",
   "metadata": {},
   "outputs": [],
   "source": [
    "#Hybrid inheritance: a combination of multiple inheritance and hierarchical inheritance is used."
   ]
  }
 ],
 "metadata": {
  "kernelspec": {
   "display_name": "Python 3 (ipykernel)",
   "language": "python",
   "name": "python3"
  },
  "language_info": {
   "codemirror_mode": {
    "name": "ipython",
    "version": 3
   },
   "file_extension": ".py",
   "mimetype": "text/x-python",
   "name": "python",
   "nbconvert_exporter": "python",
   "pygments_lexer": "ipython3",
   "version": "3.10.8"
  }
 },
 "nbformat": 4,
 "nbformat_minor": 5
}
