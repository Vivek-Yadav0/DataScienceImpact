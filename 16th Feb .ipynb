{
 "cells": [
  {
   "cell_type": "code",
   "execution_count": null,
   "id": "8d38837c-5e2c-4e2f-a655-bbf18e9faf95",
   "metadata": {},
   "outputs": [],
   "source": [
    "'''Q1. What is a database? Differentiate between SQL and NoSQL databases.\n",
    "Solution:\n",
    "A database is an organized collection of data that is stored and accessed electronically. \n",
    "It is designed to efficiently manage, store, and retrieve large amounts of data.\n",
    "\n",
    "SQL (Structured Query Language) databases are based on the relational model and use SQL as the primary language to manipulate data. SQL databases are highly structured, with data organized into tables that have predefined relationships with one another. \n",
    "\n",
    "NoSQL (Not Only SQL) databases, on the other hand, are non-relational and do not use a traditional table-based schema. Instead, they are based on document-oriented, key-value, column-family, or graph databases. NoSQL databases are highly scalable and flexible, making them ideal for handling large and unstructured datasets.\n",
    "'''"
   ]
  },
  {
   "cell_type": "code",
   "execution_count": null,
   "id": "20660ab6-e8dd-441e-93b5-ee2db8410ff2",
   "metadata": {},
   "outputs": [],
   "source": [
    "''' Q2. What is DDL? Explain why CREATE, DROP, ALTER, and TRUNCATE are used with an example.\n",
    "Solution:\n",
    "DDL stands for Data Definition Language, and it is a set of SQL commands used to define and manage the structure of a database. DDL commands allow you to create, modify, and delete database objects such as tables, indexes, and views.\n",
    "\n",
    "1. CREATE: The CREATE command is used to create a new database object, such as a table or view. For example, the following SQL statement creates a new table called \"students\" with three columns:\n",
    "CREATE TABLE students (\n",
    "   id INT,\n",
    "   name VARCHAR(50),\n",
    "   age INT\n",
    ");\n",
    "\n",
    "\n",
    "2. DROP: The DROP command is used to remove an existing database object, such as a table or view. For example, the following SQL statement drops the \"students\" table:\n",
    "DROP TABLE students;\n",
    "\n",
    "3. ALTER: The ALTER command is used to modify an existing database object, such as a table or view. For example, the following SQL statement adds a new column called \"marks\" to the \"students\" table:\n",
    "ALTER TABLE students ADD COLUMN marks INT;\n",
    "\n",
    "4. TRUNCATE: The TRUNCATE command is used to remove all data from an existing table. Unlike the DROP command, TRUNCATE preserves the structure of the table. For example, the following SQL statement removes all data from the \"students\" table:\n",
    "TRUNCATE TABLE students;\n",
    "\n",
    "'''\n",
    "\n"
   ]
  },
  {
   "cell_type": "code",
   "execution_count": null,
   "id": "21ff9022-fff0-4c4b-bc30-323b5427eab5",
   "metadata": {},
   "outputs": [],
   "source": [
    "''' Q3. What is DML? Explain INSERT, UPDATE, and DELETE with an example.\n",
    "Solution:\n",
    "DML stands for Data Manipulation Language, and it is a set of SQL commands used to manipulate the data stored in a database. DML commands allow you to insert, update, and delete data from database tables.\n",
    "\n",
    "1. INSERT: The INSERT command is used to add new data to a table. For example, the following SQL statement inserts a new row into the \"students\" table:\n",
    "INSERT INTO students (id,name,age,marks)\n",
    "VALUES (1,'vivek',22,67);\n",
    "\n",
    "2. UPDATE: The UPDATE command is used to modify existing data in a table. For example, the following SQL statement updates the marks of the students with id 1 in the \"students\" table:\n",
    "UPDATE students SET marks = 78 where id=1;\n",
    "\n",
    "3. DELETE: The DELETE command is used to remove data from a table. For example, the following SQL statement deletes the student with id 1 from the \"students\" table:\n",
    "DELETE FROM students where id=1;\n",
    "'''\n",
    "\n"
   ]
  },
  {
   "cell_type": "code",
   "execution_count": null,
   "id": "e996a71b-0f88-45b6-8329-30722995cb4e",
   "metadata": {},
   "outputs": [],
   "source": [
    "'''Q4. What is DQL? Explain SELECT with an example.\n",
    "Solution:\n",
    "DQL stands for Data Query Language, and it is a set of SQL commands used to query and retrieve data from a database. DQL commands allow you to search for data that meets specific criteria, and sort, group, and aggregate data.\n",
    "\n",
    "The most commonly used DQL command is SELECT, which is used to retrieve data from one or more tables in a database.\n",
    "Here is an example of how to use the SELECT command to retrieve data from a table:\n",
    "\n",
    "SELECT * from students\n",
    "This will retrive all data from table\n",
    "\n",
    "SELECT id, name from students;\n",
    "This will retrieve only id and name column from the table.\n",
    "\n",
    "SELECT * FROM students WHERE age >= 20;\n",
    "Data will be retrieve only of those students who's age is greater or equal to 20\n",
    "'''"
   ]
  },
  {
   "cell_type": "code",
   "execution_count": 1,
   "id": "9e274788-3099-4e63-909c-a55fee26ef7d",
   "metadata": {},
   "outputs": [
    {
     "ename": "SyntaxError",
     "evalue": "incomplete input (4031052682.py, line 1)",
     "output_type": "error",
     "traceback": [
      "\u001b[0;36m  Cell \u001b[0;32mIn[1], line 1\u001b[0;36m\u001b[0m\n\u001b[0;31m    ''' Q5. Explain Primary Key and Foreign Key.\u001b[0m\n\u001b[0m    ^\u001b[0m\n\u001b[0;31mSyntaxError\u001b[0m\u001b[0;31m:\u001b[0m incomplete input\n"
     ]
    }
   ],
   "source": [
    "''' Q5. Explain Primary Key and Foreign Key.\n",
    "Solution:\n",
    "A Primary Key is a column or set of columns in a table that uniquely identifies each row in that table. It is used to ensure that each row in a table is uniquely identifiable and can be referenced from other tables. A Primary Key must be unique, not null, and never changes. \n",
    "\n",
    "A Foreign Key is a column or set of columns in a table that refers to the Primary Key of another table. It is used to establish a relationship between two tables and enforce referential integrity. In other words, a Foreign Key ensures that a value in one table exists as a Primary Key value in another table. \n",
    "'''"
   ]
  },
  {
   "cell_type": "code",
   "execution_count": null,
   "id": "9c012e2a-b7b5-4a75-9398-4002246c3d38",
   "metadata": {},
   "outputs": [],
   "source": [
    "''' Q6. Write a python code to connect MySQL to python. Explain the cursor() and execute() method.\n",
    "Solution:\n",
    "To connect to MySQL from Python, we can use the mysql-connector-python library.\n",
    "using mysql.connector.connect() method we specify the database credentials such as the username, password and hostname'\n",
    "we create a cursor object using the cursor() method of the connection object. The cursor is used to execute SQL statements and fetch results.\n",
    "We then execute a SQL query using the execute() method of the cursor object, passing in the SQL query as a string. The query can be a SELECT, INSERT, UPDATE, or DELETE statement.\n",
    "'''\n",
    "import mysql.connector\n",
    "mydb = mysql.connector.connect(\n",
    "  host=\"localhost\",\n",
    "  user=\"abc\",\n",
    "  password=\"password\"\n",
    ")\n",
    "mycursor = mydb.cursor()\n",
    "mycursor.execute(\" create database if not exists teset2\")\n",
    "mydb.close()\n",
    "\n"
   ]
  },
  {
   "cell_type": "code",
   "execution_count": null,
   "id": "6e654940-fc2d-4bd4-92e5-3dc027f61f89",
   "metadata": {},
   "outputs": [],
   "source": [
    "''' Q7. Give the order of execution of SQL clauses in an SQL query.\n",
    "Solution:\n",
    "The order of execution of SQL clauses in an SQL query is as follows:\n",
    "\n",
    "1. FROM/JOIN: The FROM and/or JOIN clauses are executed first to determine the data of interest.\n",
    "\n",
    "2. WHERE: The WHERE clause is executed to filter out records that do not meet the constraints.\n",
    "\n",
    "3. GROUP BY: The GROUP BY clause is executed to group the data based on the values in one or more columns.\n",
    "\n",
    "4. HAVING: The HAVING clause is executed to remove the created grouped records that don’t meet the constraints.\n",
    "\n",
    "5. SELECT: The SELECT clause is executed to derive all desired columns and expressions.\n",
    "\n",
    "6. ORDER BY: The ORDER BY clause is executed to sort the derived values in ascending or descending order.\n",
    "\n",
    "7. LIMIT/OFFSET: Finally, the LIMIT and/or OFFSET clauses are executed to keep or skip a specified number of rows.\n",
    "'''"
   ]
  }
 ],
 "metadata": {
  "kernelspec": {
   "display_name": "Python 3 (ipykernel)",
   "language": "python",
   "name": "python3"
  },
  "language_info": {
   "codemirror_mode": {
    "name": "ipython",
    "version": 3
   },
   "file_extension": ".py",
   "mimetype": "text/x-python",
   "name": "python",
   "nbconvert_exporter": "python",
   "pygments_lexer": "ipython3",
   "version": "3.10.8"
  }
 },
 "nbformat": 4,
 "nbformat_minor": 5
}
