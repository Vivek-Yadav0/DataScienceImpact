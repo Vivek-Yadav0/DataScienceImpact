{
 "cells": [
  {
   "cell_type": "code",
   "execution_count": null,
   "id": "2638f14a-9075-4794-883c-284ed40894a2",
   "metadata": {},
   "outputs": [],
   "source": [
    "'''Q1. You are writing code for a company. The requirement of the company is that you create a python\n",
    "function that will check whether the password entered by the user is correct or not. The function should\n",
    "take the password as input and return the string “Valid Password” if the entered password follows the\n",
    "below-given password guidelines else it should return “Invalid Password”.\n",
    "Note: 1. The Password should contain at least two uppercase letters and at least two lowercase letters.\n",
    "2. The Password should contain at least a number and three special characters.\n",
    "3. The length of the password should be 10 characters long.\n",
    "Solution:\n",
    "'''\n",
    "def check_password(a):\n",
    "    length = len(a)\n",
    "    count_lower = 0\n",
    "    count_upper = 0\n",
    "    count_num = 0\n",
    "    count_special =0\n",
    "    special_char = '!@#$%^&*()_+'\n",
    "    for i in a:\n",
    "        if i.islower():\n",
    "            count_lower +=1\n",
    "        elif i.isupper():\n",
    "            count_upper +=1\n",
    "        elif i.isnumeric():\n",
    "            count_num +=1\n",
    "    for i in a:\n",
    "        if i in special_char:\n",
    "            count_special +=1\n",
    "    if count_lower < 2 or count_upper <2 or count_num <1 or count_special < 3 or len(a)<10:\n",
    "        return \"Invalid Password\"\n",
    "    else: \n",
    "        return \"Valid Password\"\n",
    "\n",
    "check_password(str(input(\"Enter your password: \")))    \n",
    "    "
   ]
  },
  {
   "cell_type": "code",
   "execution_count": 20,
   "id": "5a52b230-4fb0-44fd-9eb2-010b2aca90ed",
   "metadata": {},
   "outputs": [
    {
     "name": "stdout",
     "output_type": "stream",
     "text": [
      "['vivek', 'varun']\n"
     ]
    }
   ],
   "source": [
    "'''Q2. Solve the below-given questions using at least one of the following:\n",
    "1. Lambda function\n",
    "2. Filter function\n",
    "3. Zap function\n",
    "4. List Comprehension\n",
    "\n",
    " Check if the string starts with a particular letter\n",
    "Solution:\n",
    "'''\n",
    "strings= ['vivek','sudh','varun','sourabh']\n",
    "letter= 'v'\n",
    "l = filter(lambda x: x.startswith(letter), strings)\n",
    "print(list(l))"
   ]
  },
  {
   "cell_type": "code",
   "execution_count": 3,
   "id": "169eb176-9520-4d00-a46e-68a54abebcee",
   "metadata": {},
   "outputs": [
    {
     "name": "stdout",
     "output_type": "stream",
     "text": [
      "['324', '4356']\n"
     ]
    }
   ],
   "source": [
    "# Check if the string is numericY\n",
    "strings = ['324','4356','23.2','-124','hello']\n",
    "l = filter(lambda x: x.isnumeric(),strings)\n",
    "print(list(l))"
   ]
  },
  {
   "cell_type": "code",
   "execution_count": 4,
   "id": "5938b0ef-c502-4c2f-ba2b-69bd9080d420",
   "metadata": {},
   "outputs": [
    {
     "name": "stdout",
     "output_type": "stream",
     "text": [
      "[('orange', 80), ('mango', 99), ('grapes', 1000)]\n"
     ]
    }
   ],
   "source": [
    "# Sort a list of tuples having fruit names and their quantity. [(\"mango\",99),(\"orange\",80), (\"grapes\", 1000)]\n",
    "fruits = [(\"mango\",99),(\"orange\",80), (\"grapes\", 1000)]\n",
    "sort = sorted(fruits, key=lambda x:x[1])\n",
    "print(sort)"
   ]
  },
  {
   "cell_type": "code",
   "execution_count": 6,
   "id": "9ceca342-c7a7-42d4-9f8e-d248f40841a0",
   "metadata": {},
   "outputs": [
    {
     "name": "stdout",
     "output_type": "stream",
     "text": [
      "[1, 4, 9, 16, 25, 36, 49, 64, 81, 100]\n"
     ]
    }
   ],
   "source": [
    "#Find the squares of numbers from 1 to 10.\n",
    "square = [x**2 for x in range(1,11)]\n",
    "print(square)"
   ]
  },
  {
   "cell_type": "code",
   "execution_count": 9,
   "id": "06cc8eaa-b83f-4987-86c8-2f3c4429313a",
   "metadata": {},
   "outputs": [
    {
     "name": "stdout",
     "output_type": "stream",
     "text": [
      "[1.0, 1.26, 1.44, 1.59, 1.71, 1.82, 1.91, 2.0, 2.08, 2.15]\n"
     ]
    }
   ],
   "source": [
    "#Find the cube root of numbers from 1 to 10\n",
    "import math\n",
    "cube = [round(math.pow(x, 1/3), 2) for x in range(1, 11)]\n",
    "print(cube)"
   ]
  },
  {
   "cell_type": "code",
   "execution_count": 10,
   "id": "b365a248-8d93-4614-b2c5-1c05682a7a0b",
   "metadata": {},
   "outputs": [
    {
     "name": "stdout",
     "output_type": "stream",
     "text": [
      "[1.0, 1.26, 1.44, 1.59, 1.71, 1.82, 1.91, 2.0, 2.08, 2.15]\n"
     ]
    }
   ],
   "source": [
    "#Check if a given number is even\n",
    "num= int(input(\"Enter a number:\"))\n",
    "a = lambda x:x%2==0\n",
    "print(a(num))"
   ]
  },
  {
   "cell_type": "code",
   "execution_count": 16,
   "id": "91680c4d-b6ee-4a0e-bf48-2068c0302046",
   "metadata": {},
   "outputs": [
    {
     "name": "stdout",
     "output_type": "stream",
     "text": [
      "[1, 3, 5, 7, 9]\n"
     ]
    }
   ],
   "source": [
    "#Filter odd numbers from the given list.\n",
    "l = [1,2,3,4,5,6,7,8,9,10]\n",
    "l1 = filter( lambda i: i%2!=0, l)\n",
    "print(list(l1))"
   ]
  },
  {
   "cell_type": "code",
   "execution_count": 18,
   "id": "85ab5dbe-b167-4f42-b725-6f9a92221795",
   "metadata": {},
   "outputs": [
    {
     "name": "stdout",
     "output_type": "stream",
     "text": [
      "[1, 2, 3, 4, 5, 6]\n",
      "[-1, -2, -3, -4, -5]\n"
     ]
    }
   ],
   "source": [
    "#B Sort a list of integers into positive and negative integers lists.\n",
    "l = [1,2,3,4,5,6,-1,-2,-3,-4,-5,0]\n",
    "positive = [ x for x in l if x > 0]\n",
    "negative = [ x for x in l if x < 0]\n",
    "print(positive)\n",
    "print(negative)"
   ]
  },
  {
   "cell_type": "code",
   "execution_count": null,
   "id": "d0e1cc17-3f5e-47cd-aaed-93a9d248ae28",
   "metadata": {},
   "outputs": [],
   "source": []
  }
 ],
 "metadata": {
  "kernelspec": {
   "display_name": "Python 3 (ipykernel)",
   "language": "python",
   "name": "python3"
  },
  "language_info": {
   "codemirror_mode": {
    "name": "ipython",
    "version": 3
   },
   "file_extension": ".py",
   "mimetype": "text/x-python",
   "name": "python",
   "nbconvert_exporter": "python",
   "pygments_lexer": "ipython3",
   "version": "3.10.8"
  }
 },
 "nbformat": 4,
 "nbformat_minor": 5
}
