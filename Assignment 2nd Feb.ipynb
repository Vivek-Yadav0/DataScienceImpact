{
 "cells": [
  {
   "cell_type": "code",
   "execution_count": 3,
   "id": "b84cb054-f7a5-4947-bc67-db8a53b68e8a",
   "metadata": {},
   "outputs": [
    {
     "name": "stdout",
     "output_type": "stream",
     "text": [
      "0\n",
      "1\n",
      "2\n",
      "4\n",
      "32\n",
      "4\n",
      "54\n",
      "54\n",
      "45\n",
      "0\n",
      "1\n",
      "2\n",
      "4\n",
      "32\n",
      "4\n",
      "54\n",
      "54\n",
      "45\n"
     ]
    }
   ],
   "source": [
    "'''\n",
    "Q.1 ->Explain with an example each when to use a for loop and a while loop.\n",
    "Solution:\n",
    "\n",
    "The for and while loops are both conditional statements. \n",
    "A for loop is a single-line command that will be executed repeatedly.\n",
    "While loops can be single-lined or contain multiple commands for a single condition.\n",
    "'''\n",
    "a=[0,1,2,4,32,4,54,54,45]\n",
    "i=0\n",
    "while i<len(a):\n",
    "    print(a[i])\n",
    "    i=i+1\n",
    "    \n",
    "    \n",
    "a=[0,1,2,4,32,4,54,54,45]\n",
    "for i in range(0,len(a)):\n",
    "    print(a[i])\n",
    "    \n",
    "    "
   ]
  },
  {
   "cell_type": "code",
   "execution_count": 3,
   "id": "7901f88c-f5f0-4a89-b4d3-16019cf8846a",
   "metadata": {},
   "outputs": [
    {
     "name": "stdout",
     "output_type": "stream",
     "text": [
      "Sum of first natural numbers by while loop is: 55\n",
      "Product of first natural numbers by for loop is: 3628800\n"
     ]
    }
   ],
   "source": [
    "''' Q2. Write a python program to print the sum and product of the first 10 natural numbers using for\n",
    "and while loop.\n",
    "Solution:\n",
    "'''\n",
    "a=1\n",
    "sum = 0\n",
    "while a<=10:\n",
    "    sum = sum+a\n",
    "    a=a+1\n",
    "print(\"Sum of first natural numbers by while loop is:\",sum)\n",
    "\n",
    "product=1\n",
    "for b in range(1,11):\n",
    "    product = product *b\n",
    "print(\"Product of first natural numbers by for loop is:\",product)\n"
   ]
  },
  {
   "cell_type": "code",
   "execution_count": 15,
   "id": "33bb007f-6d6a-4f13-be52-d8bb2f937d66",
   "metadata": {},
   "outputs": [
    {
     "name": "stdin",
     "output_type": "stream",
     "text": [
      "Enter your units for current month:  310\n"
     ]
    },
    {
     "name": "stdout",
     "output_type": "stream",
     "text": [
      "The total electricity bill is 2250.0\n"
     ]
    }
   ],
   "source": [
    "'''Q3. Create a python program to compute the electricity bill for a household.\n",
    "\n",
    "Q4. Create a list of numbers from 1 to 100. Use for loop and while loop to calculate the cube of each\n",
    "number and if the cube of that number is divisible by 4 or 5 then append that number in a list and print\n",
    "that list.\n",
    "The per-unit charges in rupees are as follows: For the first 100 units, the user will be charged Rs. 4.5 per\n",
    "unit, for the next 100 units, the user will be charged Rs. 6 per unit, and for the next 100 units, the user will\n",
    "be charged Rs. 10 per unit, After 300 units and above the user will be charged Rs. 20 per unit.\n",
    "You are required to take the units of electricity consumed in a month from the user as input.\n",
    "Your program must pass this test case: when the unit of electricity consumed by the user in a month is\n",
    "310, the total electricity bill should be 2250.\n",
    "\n",
    "Solution:\n",
    "'''\n",
    "\n",
    "units = int(input(\"Enter your units for current month: \"))\n",
    "bill =0\n",
    "if units<=100:\n",
    "    bill = units*4.5\n",
    "elif units>100 and units<=200:\n",
    "    bill= 100*4.5 + (units-100)*6\n",
    "elif units>200 and units<=300:\n",
    "    bill = 100*4.5 + 100*6 + (units-200)*10\n",
    "elif units>300:\n",
    "    bill = 100*4.5 + 100*6 + 100*10 +(units-300)*20\n",
    "print(\"The total electricity bill is\",bill)    "
   ]
  },
  {
   "cell_type": "code",
   "execution_count": 3,
   "id": "a4e59bad-09aa-4bd9-b31c-89e486186b79",
   "metadata": {},
   "outputs": [
    {
     "name": "stdout",
     "output_type": "stream",
     "text": [
      "The cubes of number which are divisible by 4 or 5 using For loop are: [8, 64, 125, 216, 512, 1000, 1728, 2744, 3375, 4096, 5832, 8000, 10648, 13824, 15625, 17576, 21952, 27000, 32768, 39304, 42875, 46656, 54872, 64000, 74088, 85184, 91125, 97336, 110592, 125000, 140608, 157464, 166375, 175616, 195112, 216000, 238328, 262144, 274625, 287496, 314432, 343000, 373248, 405224, 421875, 438976, 474552, 512000, 551368, 592704, 614125, 636056, 681472, 729000, 778688, 830584, 857375, 884736, 941192, 1000000]\n",
      "\n",
      "The cubes of number which are divisible by 4 or 5 using while loop are: [8, 64, 125, 216, 512, 1000, 1728, 2744, 3375, 4096, 5832, 8000, 10648, 13824, 15625, 17576, 21952, 27000, 32768, 39304, 42875, 46656, 54872, 64000, 74088, 85184, 91125, 97336, 110592, 125000, 140608, 157464, 166375, 175616, 195112, 216000, 238328, 262144, 274625, 287496, 314432, 343000, 373248, 405224, 421875, 438976, 474552, 512000, 551368, 592704, 614125, 636056, 681472, 729000, 778688, 830584, 857375, 884736, 941192, 1000000]\n"
     ]
    }
   ],
   "source": [
    "''' Q4. Create a list of numbers from 1 to 100. Use for loop and while loop to calculate the cube of each\n",
    "number and if the cube of that number is divisible by 4 or 5 then append that number in a list and print\n",
    "that list.\n",
    "\n",
    "Solution:\n",
    "'''\n",
    "l=[]\n",
    "for i in range(1,101):\n",
    "    i=i*i*i\n",
    "    if i%4 == 0 or i%5 ==0:\n",
    "        l.append(i)\n",
    "print(\"The cubes of number which are divisible by 4 or 5 using For loop are:\",l)\n",
    "print()\n",
    "l= []\n",
    "i = 1\n",
    "while i <= 100:\n",
    "    cube = i**3\n",
    "    if cube % 4 == 0 or cube % 5 == 0:\n",
    "        l.append(cube)\n",
    "    i=i+1\n",
    "print(\"The cubes of number which are divisible by 4 or 5 using while loop are:\",l)"
   ]
  },
  {
   "cell_type": "code",
   "execution_count": 6,
   "id": "58ade780-e333-4226-b915-5c6c6d6a0e83",
   "metadata": {},
   "outputs": [
    {
     "name": "stdout",
     "output_type": "stream",
     "text": [
      "String contains 12 Vowels\n"
     ]
    }
   ],
   "source": [
    "'''Q5. Write a program to filter count vowels in the below-given string.\n",
    "string = \"I want to become a data scientist\"\n",
    "\n",
    "Solution:\n",
    "'''\n",
    "string = \"I want to become a data scientist\"\n",
    "count =0\n",
    "for i in range(0,len(string)):\n",
    "    if ((string[i]).lower()) == 'a':  count= count+1\n",
    "    if ((string[i]).lower()) == 'e':  count= count+1\n",
    "    if ((string[i]).lower()) == 'i':  count= count+1\n",
    "    if ((string[i]).lower()) == 'o':  count= count+1\n",
    "    if ((string[i]).lower()) == 'u':  count= count+1\n",
    "print(\"String contains\",count,\"Vowels\")\n",
    "       \n",
    "    \n",
    "            \n",
    "            "
   ]
  }
 ],
 "metadata": {
  "kernelspec": {
   "display_name": "Python 3 (ipykernel)",
   "language": "python",
   "name": "python3"
  },
  "language_info": {
   "codemirror_mode": {
    "name": "ipython",
    "version": 3
   },
   "file_extension": ".py",
   "mimetype": "text/x-python",
   "name": "python",
   "nbconvert_exporter": "python",
   "pygments_lexer": "ipython3",
   "version": "3.10.8"
  }
 },
 "nbformat": 4,
 "nbformat_minor": 5
}
