{
 "cells": [
  {
   "cell_type": "code",
   "execution_count": 1,
   "id": "5188b363-d684-499a-af53-5c773bbcd075",
   "metadata": {},
   "outputs": [],
   "source": [
    "'''Q1. Which keyword is used to create a function? Create a function to return a list of odd numbers in the\n",
    "range of 1 to 25.\n",
    "Solution:\n",
    "\"def\" keyword is used to create a function in python\n",
    "'''\n",
    "def odd_number():\n",
    "    a=[]\n",
    "    for i in range(1,26):\n",
    "        if i%2!=0:\n",
    "            a.append(i)\n",
    "    print(a)"
   ]
  },
  {
   "cell_type": "code",
   "execution_count": 2,
   "id": "3d38d392-eec3-4c6c-be1c-0d6395e0ba03",
   "metadata": {},
   "outputs": [
    {
     "name": "stdout",
     "output_type": "stream",
     "text": [
      "[1, 3, 5, 7, 9, 11, 13, 15, 17, 19, 21, 23, 25]\n"
     ]
    }
   ],
   "source": [
    "odd_number()"
   ]
  },
  {
   "cell_type": "code",
   "execution_count": 3,
   "id": "5cef95c8-5169-4121-b8c1-4d4f05313adb",
   "metadata": {},
   "outputs": [],
   "source": [
    "''' Q2. Why *args and **kwargs is used in some functions? Create a function each for *args and **kwargs\n",
    "to demonstrate their use.\n",
    "Solution:\n",
    "args and kwargs are not keyword we can use any other word as well for using this functionality\n",
    "*args = n number of arguments can be passed to a function and it stores the data in tuple.\n",
    "**kwargs = n number of arguments can be passed to a function and it stores the data in dictonary format (key, value)\n",
    "'''\n",
    "#*args eg:\n",
    "def args_func(*args):\n",
    "    a=0 \n",
    "    for i in args:\n",
    "        a=a+i\n",
    "    print(a)"
   ]
  },
  {
   "cell_type": "code",
   "execution_count": 4,
   "id": "c3effc19-1648-4d43-97fa-a76cfd9c087f",
   "metadata": {},
   "outputs": [
    {
     "name": "stdout",
     "output_type": "stream",
     "text": [
      "466\n"
     ]
    }
   ],
   "source": [
    "a=args_func(1,232,34,45,64,90)"
   ]
  },
  {
   "cell_type": "code",
   "execution_count": 5,
   "id": "3c3a116a-0bb9-46e1-b2be-4607835c84df",
   "metadata": {},
   "outputs": [],
   "source": [
    "#**kwargs eg:\n",
    "def kwargs_func(**kwargs):\n",
    "    for key,value in kwargs.items():\n",
    "        print(key,value)"
   ]
  },
  {
   "cell_type": "code",
   "execution_count": 6,
   "id": "4e2e71c1-6745-4d56-bf96-c327d79822bc",
   "metadata": {},
   "outputs": [
    {
     "name": "stdout",
     "output_type": "stream",
     "text": [
      "name vivek yadav\n",
      "code 147\n",
      "phone_number 34546342\n"
     ]
    }
   ],
   "source": [
    "b=kwargs_func(name = 'vivek yadav', code=147, phone_number = 34546342)"
   ]
  },
  {
   "cell_type": "code",
   "execution_count": 7,
   "id": "dc041e5c-c75d-441e-b8eb-fbd09760b9af",
   "metadata": {},
   "outputs": [
    {
     "name": "stdout",
     "output_type": "stream",
     "text": [
      "2\n",
      "4\n",
      "6\n",
      "8\n",
      "10\n"
     ]
    }
   ],
   "source": [
    "'''Q3. What is an iterator in python? Name the method used to initialise the iterator object and the method\n",
    "used for iteration. Use these methods to print the first five elements of the given list [2, 4, 6, 8, 10, 12, 14,\n",
    "16, 18, 20].\n",
    "\n",
    "Solution:\n",
    "An iterator is an object that contains a countable number of values.\n",
    "The method used to initialize the iterator object is iter() and and the method used for iteration is next()\n",
    "'''\n",
    "l=[2, 4, 6, 8, 10, 12, 14, 16, 18, 20]\n",
    "a=iter(l)\n",
    "for i in range(5):\n",
    "    print(next(a))\n"
   ]
  },
  {
   "cell_type": "code",
   "execution_count": 8,
   "id": "1aaa93be-3d01-4725-84c1-d9f4f3c9cde7",
   "metadata": {},
   "outputs": [],
   "source": [
    "'''Q4. What is a generator function in python? Why yield keyword is used? Give an example of a generator\n",
    "function.\n",
    "Solution:\n",
    "A generator function is a special type of function in Python that allows you to return multiple values in the form of an iterator, one value at a time.\n",
    "Generator functions use the yield keyword to return multiple values, one at a time, each time they are called.\n",
    "'''\n",
    "def gen(num):\n",
    "    a,b = 0,1\n",
    "    for i in range(num):\n",
    "        yield a\n",
    "        a,b = b, a+b"
   ]
  },
  {
   "cell_type": "code",
   "execution_count": 9,
   "id": "4b9fb534-a72d-4cbb-baa6-e840bac45b79",
   "metadata": {},
   "outputs": [
    {
     "name": "stdout",
     "output_type": "stream",
     "text": [
      "0\n",
      "1\n",
      "1\n",
      "2\n",
      "3\n",
      "5\n",
      "8\n",
      "13\n",
      "21\n",
      "34\n"
     ]
    }
   ],
   "source": [
    "for i in gen(10):\n",
    "    print(i)"
   ]
  },
  {
   "cell_type": "code",
   "execution_count": 29,
   "id": "00b2f549-6eaa-4bae-9759-ec5be8d3c81d",
   "metadata": {},
   "outputs": [],
   "source": [
    "def prime():\n",
    "    l= []\n",
    "    for num in range(2, 1000):\n",
    "        is_prime = True\n",
    "        for i in range(2, num):\n",
    "            if num % i == 0:\n",
    "                is_prime = False\n",
    "                break\n",
    "        if is_prime:\n",
    "            l.append(num)\n",
    "            yield num\n",
    "            \n",
    "prime_test = prime()"
   ]
  },
  {
   "cell_type": "code",
   "execution_count": 30,
   "id": "1149689d-af25-4124-9a93-d69ccd82bd1d",
   "metadata": {},
   "outputs": [
    {
     "name": "stdout",
     "output_type": "stream",
     "text": [
      "2\n",
      "3\n",
      "5\n",
      "7\n",
      "11\n",
      "13\n",
      "17\n",
      "19\n",
      "23\n",
      "29\n",
      "31\n",
      "37\n",
      "41\n",
      "43\n",
      "47\n",
      "53\n",
      "59\n",
      "61\n",
      "67\n",
      "71\n"
     ]
    }
   ],
   "source": [
    "for i in range(10):\n",
    "    print(next(prime_test))"
   ]
  },
  {
   "cell_type": "code",
   "execution_count": 41,
   "id": "3b5b0a3d-1c34-4ed1-8d90-887c9ef97b81",
   "metadata": {},
   "outputs": [],
   "source": [
    "'''Q6. Write a python program to print the first 10 Fibonacci numbers using a while loop.\n",
    "Solution:\n",
    "'''\n",
    "def fibonacci(num):\n",
    "    a,b = 0,1\n",
    "    c=0\n",
    "    while c<num:\n",
    "        yield a\n",
    "        a,b = b, a+b\n",
    "        c=c+1"
   ]
  },
  {
   "cell_type": "code",
   "execution_count": 42,
   "id": "508646ac-81fc-4084-ad79-2afbdb553452",
   "metadata": {},
   "outputs": [
    {
     "name": "stdout",
     "output_type": "stream",
     "text": [
      "0\n",
      "1\n",
      "1\n",
      "2\n",
      "3\n",
      "5\n",
      "8\n",
      "13\n",
      "21\n",
      "34\n"
     ]
    }
   ],
   "source": [
    "for i in fibonacci(10):\n",
    "    print(i)"
   ]
  },
  {
   "cell_type": "code",
   "execution_count": 45,
   "id": "73a817ea-5fd8-4be1-b81d-ae9350db9e86",
   "metadata": {},
   "outputs": [
    {
     "name": "stdout",
     "output_type": "stream",
     "text": [
      "['p', 'w', 's', 'k', 'i', 'l', 'l', 's']\n"
     ]
    }
   ],
   "source": [
    "'''Write a List Comprehension to iterate through the given string: ‘pwskills’.\n",
    "Expected output: ['p', 'w', 's', 'k', 'i', 'l', 'l', 's']\n",
    "Solution:\n",
    "'''\n",
    "s='pwskills'\n",
    "a = [char for char in s]\n",
    "print(a)    "
   ]
  },
  {
   "cell_type": "code",
   "execution_count": 67,
   "id": "3e35b364-3061-4bf9-92c4-3321155f3c40",
   "metadata": {},
   "outputs": [],
   "source": [
    "def palindrone(n):\n",
    "    temp=n\n",
    "    rev=0\n",
    "    while(n>0):\n",
    "        dig=n%10\n",
    "        rev=rev*10+dig\n",
    "        n=n//10\n",
    "    if(temp==rev):\n",
    "         print(\"The number is palindrome!\")\n",
    "    else:\n",
    "        print(\"Not a palindrome!\")\n"
   ]
  },
  {
   "cell_type": "code",
   "execution_count": null,
   "id": "b8681ce9-3e26-43f3-a456-f310bf5ba344",
   "metadata": {},
   "outputs": [],
   "source": [
    "num = int(input(\"Enter your number: \"))\n",
    "palindrone(num)"
   ]
  },
  {
   "cell_type": "code",
   "execution_count": 59,
   "id": "11a6cb21-7b33-483f-a8fb-275347dc8688",
   "metadata": {},
   "outputs": [
    {
     "name": "stdout",
     "output_type": "stream",
     "text": [
      "[1, 3, 5, 7, 9, 11, 13, 15, 17, 19, 21, 23, 25, 27, 29, 31, 33, 35, 37, 39, 41, 43, 45, 47, 49, 51, 53, 55, 57, 59, 61, 63, 65, 67, 69, 71, 73, 75, 77, 79, 81, 83, 85, 87, 89, 91, 93, 95, 97, 99]\n"
     ]
    }
   ],
   "source": [
    "'''Q9. Write a code to print odd numbers from 1 to 100 using list comprehension.\n",
    "Solution:\n",
    "'''\n",
    "l=[]\n",
    "for i in range(1,100):\n",
    "    if i%2==0:\n",
    "        continue\n",
    "    else:\n",
    "        l.append(i)\n",
    "print(l)"
   ]
  },
  {
   "cell_type": "code",
   "execution_count": null,
   "id": "df406960-5b3b-468a-9dc5-65844d36af12",
   "metadata": {},
   "outputs": [],
   "source": []
  }
 ],
 "metadata": {
  "kernelspec": {
   "display_name": "Python 3 (ipykernel)",
   "language": "python",
   "name": "python3"
  },
  "language_info": {
   "codemirror_mode": {
    "name": "ipython",
    "version": 3
   },
   "file_extension": ".py",
   "mimetype": "text/x-python",
   "name": "python",
   "nbconvert_exporter": "python",
   "pygments_lexer": "ipython3",
   "version": "3.10.8"
  }
 },
 "nbformat": 4,
 "nbformat_minor": 5
}
