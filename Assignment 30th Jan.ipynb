{
 "cells": [
  {
   "cell_type": "code",
   "execution_count": 3,
   "id": "b5b51d86-0d01-49c3-9621-72cf4084bb8e",
   "metadata": {},
   "outputs": [
    {
     "name": "stdin",
     "output_type": "stream",
     "text": [
      "Enter a number: 81\n"
     ]
    },
    {
     "data": {
      "text/plain": [
       "2"
      ]
     },
     "execution_count": 3,
     "metadata": {},
     "output_type": "execute_result"
    }
   ],
   "source": [
    "'''1. Write a program to accept percentage from the user and display the grade according to the following \n",
    "criteria: \n",
    "   Marks            Grade \n",
    ">90                   A \n",
    ">80 and <=90          B \n",
    ">=60 and <=80         C \n",
    "below 60              D \n",
    "\n",
    "Solution: \n",
    "'''\n",
    "\n",
    "marks = int(input(\"Enter your marks: \"))\n",
    "if marks > 90:\n",
    "    print('Grade : A')\n",
    "elif marks >80 and marks <=90:\n",
    "    print('Grade : B')        \n",
    "elif marks >= 60 and marks <= 80:\n",
    "    print('Grade : C')       \n",
    "else:\n",
    "    print('Grade : D')"
   ]
  },
  {
   "cell_type": "code",
   "execution_count": null,
   "id": "6640acec-d0cf-4095-b593-f674947bedae",
   "metadata": {},
   "outputs": [],
   "source": [
    "'''2. Write a program to accept the cost price of a bike and display the road tax to be paid according to the \n",
    "following criteria: \n",
    "Tax      Cost Price(in Rs) \n",
    "15%         >100000 \n",
    "10%       >50000 and <= 100000 \n",
    "5%            <=50000\n",
    "\n",
    "Solution: \n",
    "'''\n",
    "\n",
    "cost = int(input(\"Enter your Bike cost (in Rs) : \"))\n",
    "if cost > 100000:\n",
    "    print('Road tax for you bike is 15%: Rs.',(cost/100 *15)) \n",
    "elif cost > 50000 and cost <= 100000:\n",
    "    print('Road tax for you bike is 10%: Rs.',(cost/100 *10))\n",
    "elif cost <= 50000:\n",
    "    print('Road tax for you bike is 5%: Rs.',(cost/100 *5))"
   ]
  },
  {
   "cell_type": "code",
   "execution_count": null,
   "id": "37cc955d-22e8-4636-9786-3b18bf786d1b",
   "metadata": {},
   "outputs": [],
   "source": [
    "\"\"\"3. Accept any city from the user and display monuments of that city. \n",
    "City         Monument \n",
    "Delhi       Red Fort \n",
    "Agra        Taj Mahal \n",
    "Jaipur      Jal Mahal \n",
    "\n",
    " Solution:\n",
    "\"\"\"\n",
    "\n",
    " city = str(input(\"Enter your city name : \"))\n",
    "if city == 'Delhi' or city == 'delhi':\n",
    "    print('Red Fort is a famous monument in Delhi') \n",
    "elif city == 'Agra' or city == 'agra':\n",
    "    print('Taj Mahal is a famous monument in Agra')\n",
    "elif city == 'Jaipur' or city == 'jaipur':\n",
    "    print('Jal Mahal is a famous monument in Jaipur')\n",
    "else:\n",
    "    print(\"Sorry!! we don't have information\")"
   ]
  },
  {
   "cell_type": "code",
   "execution_count": null,
   "id": "68e2bb5c-c3d8-4219-bb13-7825272c3dd2",
   "metadata": {
    "tags": []
   },
   "outputs": [],
   "source": [
    "'''4 Check how many times a given number can be divided by 3 before it is less than or equal to 10. \n",
    "Solution:\n",
    "'''\n",
    "a =int(input(\"Enter a number:\"))\n",
    "count=0\n",
    "b=1\n",
    "while a>=10 :\n",
    "    b=a/3\n",
    "    if a%3 == 0:\n",
    "        count=count+1\n",
    "    else:\n",
    "        print(\"not divisible\")\n",
    "        break\n",
    "    a=b\n",
    "count"
   ]
  },
  {
   "cell_type": "code",
   "execution_count": 2,
   "id": "d5a4d1ac-514e-487a-b111-25578da953d2",
   "metadata": {},
   "outputs": [
    {
     "name": "stdout",
     "output_type": "stream",
     "text": [
      "1\n",
      "2\n",
      "3\n",
      "4\n",
      "5\n",
      "Now Condition is false, Value of i is: 5\n"
     ]
    }
   ],
   "source": [
    "'''5 Why and When to Use while Loop in Python give a detailed description with example\n",
    "Solution:\n",
    "While loop is used to run a program to a certain condition,\n",
    "if the condition is true then the code inside while will be executed otherwise it will pass the loop\n",
    "Eg: \n",
    "'''\n",
    "l=[1,2,3,4,5,6,7,8,9]\n",
    "i=0\n",
    "while i<5:\n",
    "    print(l[i])\n",
    "    i=i+1\n",
    "print(\"Now Condition is false, Value of i is:\",i)"
   ]
  },
  {
   "cell_type": "code",
   "execution_count": 2,
   "id": "a0d0426d-4c1d-4c57-89b9-cb848f77e09c",
   "metadata": {},
   "outputs": [
    {
     "name": "stdin",
     "output_type": "stream",
     "text": [
      "Enter a number: 4\n"
     ]
    },
    {
     "name": "stdout",
     "output_type": "stream",
     "text": [
      "*\n",
      "**\n",
      "***\n",
      "****\n"
     ]
    }
   ],
   "source": [
    "#6 Use nested while loop to print 3 different pattern. \n",
    "# Solution 1:\n",
    "\n",
    "a=int(input(\"Enter a number:\"))\n",
    "i=1\n",
    "while i<=a:\n",
    "    b=1\n",
    "    while b<=i:\n",
    "        print(\"*\",end=\"\")\n",
    "        b=b+1\n",
    "    print()\n",
    "    i=i+1\n",
    "      "
   ]
  },
  {
   "cell_type": "code",
   "execution_count": 4,
   "id": "d8792a64-430a-42a4-90cf-7b91b247f2ac",
   "metadata": {},
   "outputs": [
    {
     "name": "stdin",
     "output_type": "stream",
     "text": [
      "Enter a number:  4\n"
     ]
    },
    {
     "name": "stdout",
     "output_type": "stream",
     "text": [
      "****\n",
      "***\n",
      "**\n",
      "*\n"
     ]
    }
   ],
   "source": [
    "# Solution 2:\n",
    "a= int(input(\"Enter a number: \"))\n",
    "i=a\n",
    "while i>0:\n",
    "    b=1\n",
    "    while b<=i:\n",
    "        print(\"*\",end=\"\")\n",
    "        b=b+1\n",
    "    print()\n",
    "    i=i-1\n",
    "    \n"
   ]
  },
  {
   "cell_type": "code",
   "execution_count": 6,
   "id": "8ee94c39-3199-45c6-a1e4-bfbbbed730b6",
   "metadata": {},
   "outputs": [
    {
     "name": "stdin",
     "output_type": "stream",
     "text": [
      "Enter a number:  4\n"
     ]
    },
    {
     "name": "stdout",
     "output_type": "stream",
     "text": [
      "****\n",
      "****\n",
      "****\n",
      "****\n"
     ]
    }
   ],
   "source": [
    "# Solution 3:\n",
    "a= int(input(\"Enter a number: \"))\n",
    "i=1\n",
    "while i<=a:\n",
    "    b=1\n",
    "    while b<=a:\n",
    "        print(\"*\",end=\"\")\n",
    "        b=b+1\n",
    "    print()\n",
    "    i=i+1"
   ]
  },
  {
   "cell_type": "code",
   "execution_count": null,
   "id": "46fa1a8e-44e4-4859-9897-1345b11f99b5",
   "metadata": {},
   "outputs": [],
   "source": []
  }
 ],
 "metadata": {
  "kernelspec": {
   "display_name": "Python 3 (ipykernel)",
   "language": "python",
   "name": "python3"
  },
  "language_info": {
   "codemirror_mode": {
    "name": "ipython",
    "version": 3
   },
   "file_extension": ".py",
   "mimetype": "text/x-python",
   "name": "python",
   "nbconvert_exporter": "python",
   "pygments_lexer": "ipython3",
   "version": "3.10.8"
  }
 },
 "nbformat": 4,
 "nbformat_minor": 5
}
